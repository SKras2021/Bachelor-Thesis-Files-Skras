{
 "cells": [
  {
   "cell_type": "code",
   "execution_count": null,
   "id": "9d728fea-d21b-4210-a137-550594341004",
   "metadata": {},
   "outputs": [],
   "source": [
    "\"\"\"\n",
    "Savva Krasnokutskii\n",
    "Bachaleor thesis\n",
    "Progress log 4\n",
    "\"\"\""
   ]
  },
  {
   "cell_type": "code",
   "execution_count": null,
   "id": "c37ce0a1-66db-457c-9aa9-8078c7eae84a",
   "metadata": {},
   "outputs": [],
   "source": [
    "\"\"\"\n",
    "GENOME PART 2 & IMPLEMENTING THE ENVIROMENT\n",
    "\"\"\""
   ]
  },
  {
   "cell_type": "code",
   "execution_count": null,
   "id": "c096cea3-a505-4b61-b42b-c17c7627b32d",
   "metadata": {},
   "outputs": [],
   "source": [
    "#IMPLEMENTING THE ENVIROMENT"
   ]
  },
  {
   "cell_type": "code",
   "execution_count": null,
   "id": "fe4fed8c-eb0b-4eaa-88b8-1be676bc2602",
   "metadata": {},
   "outputs": [],
   "source": [
    "\"\"\"\n",
    "Genome part 2 - Practical implementation\n",
    "\n",
    "As I have discussed in my previous development diaries the genome would consist of 3 parts. Creature's general characteristics, cellular\n",
    "composition and finally the behavioral biases. These biases would be the topic of our report. They will be extremely important during the\n",
    "early stages of the development, where a creature would be to short lived and primitive to develop it's own brain capacity.\n",
    "\n",
    "The methodology considering working with the genome itself was created in part 3 progress log. It would stay in roughtly the same way thought\n",
    "our experiment. Below we would implement the \"propensities/biases\" part of the genome\n",
    "\"\"\""
   ]
  },
  {
   "cell_type": "code",
   "execution_count": null,
   "id": "fad57a15-cc32-409a-8c64-dc29fb57702e",
   "metadata": {},
   "outputs": [],
   "source": [
    "\"\"\"\n",
    "Let us take a 2D 10*10 matrix (Expandable). And populate it with values from 0 to 99. The matrix would be the code each creature executes\n",
    "(has propencity to execute, unless partially overriden by brain) each \"turn\". Each cell in the matrix would be a comand to be executed. Ex\n",
    "\n",
    "[01,21]\n",
    "[32,24]\n",
    "->\n",
    "Go up-left, Check tile to the right. If creature attempt to reproduce. Consume energy. (This are examples of command, not exactly representative\n",
    "of what is going to be in the end)\n",
    "\"\"\""
   ]
  },
  {
   "cell_type": "code",
   "execution_count": 2,
   "id": "740bd6a8-f502-40d3-bd8c-f5639156ec2e",
   "metadata": {},
   "outputs": [],
   "source": [
    "#Imports\n",
    "import random\n",
    "from typing import List"
   ]
  },
  {
   "cell_type": "code",
   "execution_count": 3,
   "id": "a141bf87-183f-4530-b149-7af769fcf47b",
   "metadata": {},
   "outputs": [
    {
     "name": "stdout",
     "output_type": "stream",
     "text": [
      "['78', '08', '13', '03', '91', '80', '13', '40', '31', '63', '44', '19', '51', '26', '65', '44', '52', '06', '52', '53', '63', '47', '36', '98', '18', '22', '06', '55', '27', '05', '99', '86', '97', '86', '88', '65', '57', '59', '80', '60', '03', '29', '54', '95', '02', '39', '36', '25', '96', '80', '89', '46', '38', '99', '98', '46', '88', '71', '19', '66', '19', '51', '93', '16', '52', '52', '82', '52', '64', '14', '02', '79', '93', '98', '58', '31', '23', '35', '04', '57', '31', '63', '95', '42', '20', '32', '43', '79', '36', '18', '22', '60', '16', '92', '28', '96', '82', '61', '04', '25']\n"
     ]
    }
   ],
   "source": [
    "genome = ''.join(random.choices('0123456789', k=200)) + \"someotherpartsofthegenome\"\n",
    "\n",
    "def extract_biases(genome:str) -> str:\n",
    "    genome_biases = genome[0:200]\n",
    "\n",
    "    return genome_biases\n",
    "\n",
    "def iterate_comand_by_comand(genome:str) -> List[str]:\n",
    "    lst = []\n",
    "    for i in range(0,len(genome),2):\n",
    "        lst.append(genome[i:i+2])\n",
    "    return lst\n",
    "\n",
    "temp = extract_biases(genome)\n",
    "temp = iterate_comand_by_comand(temp)\n",
    "\n",
    "print(temp)"
   ]
  },
  {
   "cell_type": "code",
   "execution_count": 2,
   "id": "ed2556ab-3938-4090-a135-d0ab7c7a91aa",
   "metadata": {},
   "outputs": [
    {
     "data": {
      "text/plain": [
       "'\\nWe are now starting to develop the instruments which would be used to controll the genes and to operate them.\\n'"
      ]
     },
     "execution_count": 2,
     "metadata": {},
     "output_type": "execute_result"
    }
   ],
   "source": [
    "\"\"\"\n",
    "We are now starting to develop the instruments which would be used to controll the genes and to operate them.\n",
    "\"\"\""
   ]
  },
  {
   "cell_type": "code",
   "execution_count": null,
   "id": "34e94c62-9b1e-4a22-9148-36d2e511b16b",
   "metadata": {},
   "outputs": [],
   "source": [
    "\"\"\"\n",
    "Sources used:\n",
    "\n",
    "Information/Research for genome structure:\n",
    "\n",
    "1.Molecular biology of the cell. Sixth edition. Bruce Alberts.\n",
    "2.Wikipedia https://en.wikipedia.org/wiki/Genome\n",
    "\n",
    "Creating the enviroment\n",
    "\n",
    "1.Practical implementation of hexosphere https://github.com/arscan/hexasphere.js\n",
    "2.Geodesic polyhedron, fundamental pricinple in enviroment development. https://en.wikipedia.org/wiki/Geodesic_polyhedron\n",
    "3.https://www.redblobgames.com/x/1640-hexagon-tiling-of-sphere/\n",
    "4.Another template project, used as reference https://github.com/bluebasil/Slay-2\n",
    "\"\"\""
   ]
  }
 ],
 "metadata": {
  "kernelspec": {
   "display_name": "Python 3 (ipykernel)",
   "language": "python",
   "name": "python3"
  },
  "language_info": {
   "codemirror_mode": {
    "name": "ipython",
    "version": 3
   },
   "file_extension": ".py",
   "mimetype": "text/x-python",
   "name": "python",
   "nbconvert_exporter": "python",
   "pygments_lexer": "ipython3",
   "version": "3.12.2"
  }
 },
 "nbformat": 4,
 "nbformat_minor": 5
}
